{
 "cells": [
  {
   "cell_type": "markdown",
   "metadata": {},
   "source": [
    "## Liebe Numerik-Studierende,\n",
    "um euch die Prüfungsvorbereitung etwas zu erleichtern, haben wir dieses Jupyter Notebook mit einigen **Aufgaben aus dem Klausur-Pool** erstellt. Ein Sprachmodell auf einem Uni-internen Server wird eure eingereichten Lösungen mit Musterlösungen vergleichen und euch hoffentlich hilfreiche Tipps geben können.\n",
    "\n",
    "Wir bitten euch im Anschluss, folgende kurze [**anonyme Umfrage**](https://forms.gle/dmEVfFVpq2Z5GoEb6) auszufüllen, damit wir das Tool evaluieren und weiter verbessern können. Hierbei habt ihr die Möglichkeit **einen von 3 Thalia-Gutscheinen im Wert von jeweils 20€** zu gewinnen. Die Deadline hierfür ist der **13.02.2025**. (Zur Teilnahme müsst ihr nicht alle Aufgaben bearbeiten, allerdings ist die Gewinnwahrscheinlichkeit proportional zu den erreichten Punkten in diesem Skript).\n",
    "\n",
    "Bitte bearbeitet die Übungen selbstständig! (offensichtliche Plagiate werden ausgeschlossen, außerdem bringt die Übung sonst nichts für die Klausur ;)\n",
    "\n",
    "Liebe Grüße und viel Erfolg!\n",
    "\n",
    "Achtung: das Sprachmodell kann Fehler machen! Bei Fragen oder Problemen könnt ihr euch jederzeit bei Nils Wandel (wandeln@cs.uni-bonn.de) melden."
   ]
  },
  {
   "cell_type": "code",
   "execution_count": null,
   "metadata": {},
   "outputs": [],
   "source": [
    "import numpy as np\n",
    "from IPython.display import display, Markdown\n",
    "from pyevalai import show, login, enter_course, handin_exercise"
   ]
  },
  {
   "cell_type": "code",
   "execution_count": null,
   "metadata": {},
   "outputs": [],
   "source": [
    "# login mit Uni-Account\n",
    "login(url=\"cg2-04.informatik.uni-bonn.de\")\n",
    "enter_course(\"Numerik-Training\")"
   ]
  },
  {
   "cell_type": "markdown",
   "metadata": {},
   "source": [
    "## Kapitel 1 Aufgabe 1: Induzierte Metrik\n",
    "Sei $X$ eine Menge, dann ist $d : X \\times X \\to \\mathbb{R}$ eine Metrik auf $X$, wenn für alle $x, y, z \\in X$ gilt:\n",
    "- **Positive Definitheit:** $d(x, y) \\geq 0$ und $d(x, y) = 0 \\Leftrightarrow x = y$\n",
    "- **Symmetrie:** $d(x, y) = d(y, x)$\n",
    "- **Dreiecksungleichung:** $d(x, z) \\leq d(x, y) + d(y, z)$\n",
    "\n",
    "Sei $V$ ein Vektorraum und $\\Vert \\cdot \\Vert$ eine Norm auf $V$.\n",
    "Zeigen Sie, dass $d(x, y) = \\Vert x - y \\Vert$ eine Metrik auf $V$ ist."
   ]
  },
  {
   "cell_type": "code",
   "execution_count": null,
   "metadata": {},
   "outputs": [],
   "source": [
    "solution_1_1 = show(r\"\"\"\n",
    "... Lösung ...\n",
    "\"\"\")"
   ]
  },
  {
   "cell_type": "code",
   "execution_count": null,
   "metadata": {},
   "outputs": [],
   "source": [
    "handin_exercise(\"Blatt 1 A1 (Theorie) Induzierte Metrik\",solution_1_1)"
   ]
  },
  {
   "cell_type": "markdown",
   "metadata": {},
   "source": [
    "## Kapitel 1 Aufgabe 2.1: Spiegelungsmatrix\n",
    "Sei $n \\in \\mathbb{N}$ und $v \\in \\mathbb{C}^{n}$ mit $v \\neq 0$.\n",
    "Sei $I \\in \\mathbb{C}^{n\\times n}$ die Einheitsmatrix und\n",
    "\\begin{equation*}\n",
    "    Q = I - \\frac{2}{v^* v} \\cdot v v^*\n",
    "\\end{equation*}\n",
    "Zeigen Sie, dass für alle Vektoren $w \\in \\mathbb{C}^n$ gilt\n",
    "\\begin{equation*}\n",
    "    v^* (Q \\cdot w) = - v^* w\n",
    "\\end{equation*}"
   ]
  },
  {
   "cell_type": "code",
   "execution_count": null,
   "metadata": {},
   "outputs": [],
   "source": [
    "solution_1_2_1 = show(r\"\"\"\n",
    "... Lösung ...\n",
    "\"\"\")"
   ]
  },
  {
   "cell_type": "code",
   "execution_count": null,
   "metadata": {},
   "outputs": [],
   "source": [
    "handin_exercise(\"Blatt 1 A2.1 (Theorie) Spiegelungsmatrix\",solution_1_2_1)"
   ]
  },
  {
   "cell_type": "markdown",
   "metadata": {},
   "source": [
    "## Kapitel 1 Aufgabe 2.2: Spiegelungsmatrix\n",
    "Sei $n \\in \\mathbb{N}$ und $v \\in \\mathbb{C}^{n}$ mit $v \\neq 0$.\n",
    "Sei $I \\in \\mathbb{C}^{n\\times n}$ die Einheitsmatrix und\n",
    "\\begin{equation*}\n",
    "    Q = I - \\frac{2}{v^* v} \\cdot v v^*\n",
    "\\end{equation*}\n",
    "Zeigen Sie, dass $Q$ unitär ist, d.h. $Q^* Q = I$."
   ]
  },
  {
   "cell_type": "code",
   "execution_count": null,
   "metadata": {},
   "outputs": [],
   "source": [
    "solution_1_2_2 = show(r\"\"\"\n",
    "... Lösung ...\n",
    "\"\"\")"
   ]
  },
  {
   "cell_type": "code",
   "execution_count": null,
   "metadata": {},
   "outputs": [],
   "source": [
    "handin_exercise(\"Blatt 1 A2.2 (Theorie) Spiegelungsmatrix Unitarität\",solution_1_2_2)"
   ]
  },
  {
   "cell_type": "markdown",
   "metadata": {},
   "source": [
    "## Kapitel 2 Aufgabe 1: Geradenfit\n",
    "Schreiben Sie Python Code, der zu gegebenen Datenpunkten $(x_i, y_i)$ die Parameter $p_1, p_2$ einer Ausgleichsgerade $g(x) = p_1 \\cdot x + p_2$ ausrechnet.\n",
    "Die Ausgleichsgerade soll dabei den quadratischen Abstand\n",
    "\\begin{equation*}\n",
    "    \\sum_i (p_1 \\cdot x_i + p_2 - y_i)^2 \\to \\mathrm{min}\n",
    "\\end{equation*}\n",
    "minimieren.\n",
    "Formulieren Sie dazu das Problem in Matrixschreibweise um, sodass Sie $||A x - b||^2$ minimieren und lösen Sie dieses Problem durch eine Singulärwertzerlegung.\n",
    "Sie dürfen dafür die Singulärwertzerlegung von numpy benutzen."
   ]
  },
  {
   "cell_type": "code",
   "execution_count": null,
   "metadata": {},
   "outputs": [],
   "source": [
    "from numpy import *\n",
    "from numpy.random import rand\n",
    "from numpy.linalg import svd\n",
    "import matplotlib.pyplot as plt\n",
    "\n",
    "x = arange(0.0,1.0,0.01)\n",
    "x = x.reshape((x.size,1))\n",
    "y = 5.0*x - 2.0\n",
    "noise = 0.2\n",
    "y += noise * (rand(x.size,1) - 0.5)\n",
    "\n",
    "def fit_straight_line(x, y):\n",
    "    #TODO\n",
    "    p = [0,1]\n",
    "    return p\n",
    "\n",
    "p = fit_straight_line(x, y)\n",
    "plt.plot(x,y,'rx')\n",
    "plt.plot(x,p[0]+p[1]*x)\n",
    "plt.show()"
   ]
  },
  {
   "cell_type": "code",
   "execution_count": null,
   "metadata": {},
   "outputs": [],
   "source": [
    "handin_exercise(\"Blatt 2 A1 (Praxis) Geradenfit\",fit_straight_line)"
   ]
  },
  {
   "cell_type": "markdown",
   "metadata": {},
   "source": [
    "## Kapitel 3 Aufgabe 1 Eigenschaften der Singulärwertzerlegung\n",
    "Sei $m,n \\in \\mathbb{N}$ mit $n \\leq m$ und sei $A \\in \\mathbb{C}^{m \\times n}$ beliebig.\n",
    "Wir betrachten eine Singulärwertzerlegung $A = U \\Sigma V^*$.\n",
    "Geben Sie alle besonderen Eigenschaften der Matrizen $U, \\Sigma, V$ an."
   ]
  },
  {
   "cell_type": "code",
   "execution_count": null,
   "metadata": {},
   "outputs": [],
   "source": [
    "solution_3_1 = show(r\"\"\"\n",
    "... Lösung ...\n",
    "\"\"\")"
   ]
  },
  {
   "cell_type": "code",
   "execution_count": null,
   "metadata": {},
   "outputs": [],
   "source": [
    "handin_exercise(\"Blatt 3 A1 (Theorie) Eigenschaften der Singulärwertzerlegung\",solution_3_1)"
   ]
  },
  {
   "cell_type": "markdown",
   "metadata": {},
   "source": [
    "## Kapitel 4 Aufgabe 1 Gram-Schmidt Verfahren\n",
    "Sei\n",
    "\\begin{equation*}\n",
    "    A =\n",
    "    \\begin{pmatrix}\n",
    "        -2 & 2 & 3 \\\\\n",
    "        2 & 3 & 1 \\\\\n",
    "        1 & 4 & -2\n",
    "    \\end{pmatrix}\n",
    "    \\in \\mathbb{R}^{3 \\times 3}\n",
    "\\end{equation*}\n",
    "Verwenden Sie das klassische Gram-Schmidt-Verfahren um eine $QR$-Zerlegung $A = Q R$ der Matrix $A$ zu berechnen.\n",
    "Geben Sie dabei die resultierenden Matrizen $Q, R \\in \\mathbb{R}^{3 \\times 3}$ explizit an.\n",
    "\n",
    "**Hinweis:** Bei korrekter Rechnung sollten nur einfache Brüche auftreten, keine irrationalen Zahlen."
   ]
  },
  {
   "cell_type": "code",
   "execution_count": null,
   "metadata": {},
   "outputs": [],
   "source": [
    "solution_4_1 = show(r\"\"\"\n",
    "... Lösung ...\n",
    "\"\"\")"
   ]
  },
  {
   "cell_type": "code",
   "execution_count": null,
   "metadata": {},
   "outputs": [],
   "source": [
    "handin_exercise(\"Blatt 4 A1 (Theorie) Gram-Schmidt Verfahren\",solution_4_1)"
   ]
  },
  {
   "cell_type": "markdown",
   "metadata": {},
   "source": [
    "## Kapitel 4 Aufgabe 2 Ausgleichsproblem mit QR-Zerlegung lösen\n",
    "Seien die Matrizen $Q, R$ und der Vektor $b$ gegeben mit\n",
    "\\begin{equation*}\n",
    "    Q = \\frac{1}{2}\n",
    "    \\begin{pmatrix}\n",
    "        1 & 0 & 1 \\\\\n",
    "        -1 & 0 & 1 \\\\\n",
    "        0 & 2 & 0 \\\\\n",
    "        i & 0 & -1 \\\\\n",
    "        -i & 0 & -1\n",
    "    \\end{pmatrix}\n",
    "    \\in \\mathbb{C}^{5 \\times 3}\n",
    "    \\quad , \\quad\n",
    "    R =\n",
    "    \\begin{pmatrix}\n",
    "        3 & 0 & -3i \\\\\n",
    "        0 & 1 & 1 \\\\\n",
    "        0 & 0 & 2\n",
    "    \\end{pmatrix}\n",
    "    \\in \\mathbb{C}^{3 \\times 3}\n",
    "    \\quad , \\quad\n",
    "    b = \\begin{pmatrix} 4 \\\\ 2i \\\\ 6 \\\\ 2i \\\\ 8 \\end{pmatrix}\n",
    "    \\in \\mathbb{C}^5\n",
    "\\end{equation*}\n",
    "Finden Sie von Hand einen Vektor $x \\in \\mathbb{C}^3$, der das lineare Ausgleichsproblem\n",
    "\\begin{equation*}\n",
    "    \\Vert Q R x - b \\Vert_2 \\rightarrow \\textrm{min}\n",
    "\\end{equation*}\n",
    "löst."
   ]
  },
  {
   "cell_type": "code",
   "execution_count": null,
   "metadata": {},
   "outputs": [],
   "source": [
    "solution_4_2 = show(r\"\"\"\n",
    "... Lösung ...\n",
    "\"\"\")"
   ]
  },
  {
   "cell_type": "code",
   "execution_count": null,
   "metadata": {},
   "outputs": [],
   "source": [
    "handin_exercise(\"Blatt 4 A2 (Theorie) Ausgleichsproblem mit QR-Zerlegung lösen\",solution_4_2)"
   ]
  },
  {
   "cell_type": "markdown",
   "metadata": {},
   "source": [
    "## Kapitel 5 Aufgabe 1 Kondition Beispiele\n",
    "Die absolute und die relative Konditionszahl einer Funktion $f : \\mathbb{R} \\rightarrow \\mathbb{R}$ am Punkt $x$ sind definiert durch\n",
    "\\begin{equation*}\n",
    "    K_\\mathrm{abs} := |f'(x)| \\quad \\text{und} \\quad  K_\\mathrm{rel} := \\left| \\frac{f'(x) \\cdot x}{f(x)} \\right|\n",
    "\\end{equation*}\n",
    "Berechnen Sie jeweils die absoluten und relativen Konditionszahlen für die Funktionen $\\exp(x)$ und $\\ln(x)$.\n",
    "Für welche $x$ sind diese Funktionen jeweils schlecht konditioniert?"
   ]
  },
  {
   "cell_type": "code",
   "execution_count": null,
   "metadata": {},
   "outputs": [],
   "source": [
    "solution_5_1 = show(r\"\"\"\n",
    "\\begin{align*}\n",
    "    K_{\\exp,\\mathrm{abs}} &= TODO \\\\\n",
    "    K_{\\ln,\\mathrm{abs}}  &= TODO \\\\\n",
    "    K_{\\exp,\\mathrm{rel}} &= TODO \\\\\n",
    "    K_{\\ln,\\mathrm{rel}}  &= TODO\n",
    "\\end{align*}\n",
    "TODO\n",
    "\"\"\")"
   ]
  },
  {
   "cell_type": "code",
   "execution_count": null,
   "metadata": {},
   "outputs": [],
   "source": [
    "handin_exercise(\"Blatt 5 A1 (Theorie) Kondition Beispiele\",solution_5_1)"
   ]
  },
  {
   "cell_type": "markdown",
   "metadata": {},
   "source": [
    "## Kapitel 5 Aufgabe 2 Kondition der Tikhonov-Regularisierung\n",
    "Sei $m,n \\in \\mathbb{N}$ mit $n < m$ und sei $A \\in \\mathbb{C}^{m \\times n}$.\n",
    "Sei $\\sigma_1$ der größte und $\\sigma_n$ der kleinste Singulärwert von $A$.\n",
    "Sei $\\lambda > 0$ und\n",
    "\\begin{equation*}\n",
    "    T =\n",
    "    \\begin{pmatrix} A \\\\ \\lambda I \\end{pmatrix}\n",
    "    \\in \\mathbb{C}^{(m+n) \\times n}\n",
    "\\end{equation*}\n",
    "wobei $I \\in \\mathbb{C}^{n \\times n}$ die Einheitsmatrix ist.\n",
    "Zeigen Sie\n",
    "\\begin{equation*}\n",
    "    K_2(T) = \\sqrt{\\frac{\\sigma_1^2 + \\lambda^2}{\\sigma_n^2 + \\lambda^2}}\n",
    "\\end{equation*}\n",
    "wobei $K_2$ die Matrixkondition bezüglich der $2$-Norm bezeichnet.\n",
    "\n",
    "**Hinweis:** Nutzen Sie die Singulärwertzerlegung von $A$, um eine Singulärwertzerlegung von $T^* T$ zu konstruieren."
   ]
  },
  {
   "cell_type": "code",
   "execution_count": null,
   "metadata": {},
   "outputs": [],
   "source": [
    "solution_5_2 = show(r\"\"\"\n",
    "... Lösung ...\n",
    "\"\"\")"
   ]
  },
  {
   "cell_type": "code",
   "execution_count": null,
   "metadata": {},
   "outputs": [],
   "source": [
    "handin_exercise(\"Blatt 5 A2 (Theorie) Kondition der Tikhonov-Regularisierung\",solution_5_2)"
   ]
  },
  {
   "cell_type": "markdown",
   "metadata": {},
   "source": [
    "## Kapitel 6 Aufgabe 1 LU-Zerlegung ohne Pivotisierung\n",
    "Sei\n",
    "\\begin{equation*}\n",
    "    A =\n",
    "    \\begin{pmatrix}\n",
    "        1 & 2 & 3 & 4 \\\\\n",
    "        2 & 7 & 10 & 13 \\\\\n",
    "        3 & 12 & 22 & 28 \\\\\n",
    "        4 & 17 & 34 & 51\n",
    "    \\end{pmatrix}\n",
    "\\end{equation*}\n",
    "Führen Sie den Gauß-Algorithmus (ohne Pivotisierung) von Hand aus, um eine $LU$-Faktorisierung $A = L U$ der Matrix $A$ zu berechnen."
   ]
  },
  {
   "cell_type": "code",
   "execution_count": null,
   "metadata": {},
   "outputs": [],
   "source": [
    "solution_6_1 = show(r\"\"\"\n",
    "\\begin{align*}\n",
    "    A & =\n",
    "    \\begin{pmatrix}\n",
    "        1 & 0 & 0 & 0 \\\\\n",
    "        0 & 1 & 0 & 0 \\\\\n",
    "        0 & 0 & 1 & 0 \\\\\n",
    "        0 & 0 & 0 & 1\n",
    "    \\end{pmatrix}\n",
    "    \\cdot\n",
    "    \\begin{pmatrix}\n",
    "        1 & 2 & 3 & 4 \\\\\n",
    "        2 & 7 & 10 & 13 \\\\\n",
    "        3 & 12 & 22 & 28 \\\\\n",
    "        4 & 17 & 34 & 51\n",
    "    \\end{pmatrix}\n",
    "    \\\\\n",
    "    & = TODO \\\\\n",
    "    & = L U\n",
    "\\end{align*}\n",
    "\"\"\")"
   ]
  },
  {
   "cell_type": "code",
   "execution_count": null,
   "metadata": {},
   "outputs": [],
   "source": [
    "handin_exercise(\"Blatt 6 A1 (Theorie) LU-Zerlegung ohne Pivotisierung\",solution_6_1)"
   ]
  },
  {
   "cell_type": "markdown",
   "metadata": {},
   "source": [
    "## Kapitel 6 Aufgabe 2.1 Cholesky-Zerlegung Voraussetzungen\n",
    "Sei $m \\in \\mathbb{N}$, $A \\in \\mathbb{C}^{m \\times m}$ und $b \\in \\mathbb{C}^m$.\n",
    "Unter welchen Voraussetzungen existiert eine Cholesky-Zerlegung $A = R^* R$?"
   ]
  },
  {
   "cell_type": "code",
   "execution_count": null,
   "metadata": {},
   "outputs": [],
   "source": [
    "solution_6_2_1 = show(r\"\"\"\n",
    "... Lösung ...\n",
    "\"\"\")"
   ]
  },
  {
   "cell_type": "code",
   "execution_count": null,
   "metadata": {},
   "outputs": [],
   "source": [
    "handin_exercise(\"Blatt 6 A2.1 (Theorie) Cholesky-Zerlegung Voraussetzungen\",solution_6_2_1)"
   ]
  },
  {
   "cell_type": "markdown",
   "metadata": {},
   "source": [
    "## Kapitel 6 Aufgabe 2.2 Cholesky-Zerlegung Voraussetzungen\n",
    "Sei $m \\in \\mathbb{N}$, $A \\in \\mathbb{C}^{m \\times m}$ und $b \\in \\mathbb{C}^m$.\n",
    "Sei $A = R^* R$ eine Cholesky-Zerlegung von $A$.\n",
    "Welche besonderen Eigenschaften hat dann die Matrix $R$?\n",
    "Welche Eigenschaft haben die Diagonaleinträge von $R$?"
   ]
  },
  {
   "cell_type": "code",
   "execution_count": null,
   "metadata": {},
   "outputs": [],
   "source": [
    "solution_6_2_2 = show(r\"\"\"\n",
    "... Lösung ...\n",
    "\"\"\")"
   ]
  },
  {
   "cell_type": "code",
   "execution_count": null,
   "metadata": {},
   "outputs": [],
   "source": [
    "handin_exercise(\"Blatt 6 A2.2 (Theorie) Cholesky-Zerlegung Eigenschaften\",solution_6_2_2)"
   ]
  },
  {
   "cell_type": "markdown",
   "metadata": {},
   "source": [
    "## Kapitel 7 Aufgabe 1 Matrixpotenzen mit Eigenwertzerlegung\n",
    "Zeigen Sie, dass für diagonalisierbare Matrizen $A \\in \\mathbb{C}^{n \\times n}$ mit Eigenwertzerlegung $A = V D V^{-1}$ gilt:\n",
    "\\begin{equation*}\n",
    "    A^k = V D^k V^{-1}\n",
    "\\end{equation*}\n",
    "Führen Sie einen sauberen Beweis über vollständige Induktion durch."
   ]
  },
  {
   "cell_type": "code",
   "execution_count": null,
   "metadata": {},
   "outputs": [],
   "source": [
    "solution_7_1 = show(r\"\"\"\n",
    "... Lösung ...\n",
    "\"\"\")"
   ]
  },
  {
   "cell_type": "code",
   "execution_count": null,
   "metadata": {},
   "outputs": [],
   "source": [
    "handin_exercise(\"Blatt 7 A1 (Theorie) Matrixpotenzen mit Eigenwertzerlegung\",solution_7_1)"
   ]
  },
  {
   "cell_type": "markdown",
   "metadata": {},
   "source": [
    "## Kapitel 7 Aufgabe 2 Inverse Iteration\n",
    "Implementieren Sie die inverse Iteration (inverse power iteration), um von einer zufälligen Matrix den Eigenwert auszurechnen, der betragsmäßig am nächsten an $0,5$ liegt.\n",
    "Nutzen Sie dafür die Invertierungsfunktion von numpy."
   ]
  },
  {
   "cell_type": "code",
   "execution_count": null,
   "metadata": {},
   "outputs": [],
   "source": [
    "from numpy import *\n",
    "from numpy.random import rand\n",
    "from numpy.linalg import norm, inv\n",
    "import numpy as np\n",
    "\n",
    "A = rand(4,4)\n",
    "A = A+A.T\n",
    "u = rand(4,1)\n",
    "u = u / norm(u,2)\n",
    "\n",
    "def inverse_iteration(A, v, m):\n",
    "    #TODO\n",
    "    for i in range(100):\n",
    "        #TODO\n",
    "        pass\n",
    "\n",
    "    return 0\n",
    "\n",
    "print(\"Vergleiche das Resultat mit Eigenwerten von A. Entspricht dies dem Eigenwert, der am nächsten bei 0.5 liegt?\")\n",
    "print(f\"Resultat: {inverse_iteration(A, u, 0.5)}\")\n",
    "print(f\"Eigenwerte von A: {np.linalg.eig(A)[0]}\")"
   ]
  },
  {
   "cell_type": "code",
   "execution_count": null,
   "metadata": {},
   "outputs": [],
   "source": [
    "handin_exercise(\"Blatt 7 A2 (Praxis) Inverse Iteration\",inverse_iteration)"
   ]
  },
  {
   "cell_type": "markdown",
   "metadata": {},
   "source": [
    "## Kapitel 8 Aufgabe 1 Funktionalmatrix und Hessematrix berechnen\n",
    "Sei $f : \\mathbb{R}^2 \\rightarrow \\mathbb{R}$ mit\n",
    "\\begin{equation*}\n",
    "    f(x,y) = \\cos(x) (y^2+1)\n",
    "\\end{equation*}\n",
    "Geben Sie zu Ihren Lösungen der nachfolgenden Aufgaben auch die Rechnungen und Begründungen an.\n",
    "\n",
    "Berechnen Sie die Funktionalmatrix $f'(x, y)$ und die Hessematrix $f''(x, y) = H_f(x, y)$ für beliebige $x,y \\in \\mathbb{R}$."
   ]
  },
  {
   "cell_type": "code",
   "execution_count": null,
   "metadata": {},
   "outputs": [],
   "source": [
    "solution_8_1 = show(r\"\"\"\n",
    "Die Funktionalmatrix ist\n",
    "\\begin{equation*}\n",
    "    f'(x,y) =\n",
    "    TODO\n",
    "\\end{equation*}\n",
    "Die Hessematrix ist\n",
    "\\begin{align*}\n",
    "    f''(x,y) & =\n",
    "    TODO\n",
    "\\end{align*}\n",
    "\"\"\")"
   ]
  },
  {
   "cell_type": "code",
   "execution_count": null,
   "metadata": {},
   "outputs": [],
   "source": [
    "handin_exercise(\"Blatt 8 A1 (Theorie) Funktionalmatrix und Hessematrix berechnen\",solution_8_1)"
   ]
  },
  {
   "cell_type": "markdown",
   "metadata": {},
   "source": [
    "## Kapitel 8 Aufgabe 2 Extrempunkte berechnen\n",
    "Sei $f : \\mathbb{R}^2 \\rightarrow \\mathbb{R}$ mit\n",
    "\\begin{equation*}\n",
    "    f(x,y) = x^3 + y^3 + 3xy\n",
    "\\end{equation*}\n",
    "\n",
    "Bestimmen Sie alle Extrempunkte von $f$. Sie müssen nicht angeben, um welche Art von Extrempunkt es sich handelt."
   ]
  },
  {
   "cell_type": "code",
   "execution_count": null,
   "metadata": {},
   "outputs": [],
   "source": [
    "solution_8_2 = show(r\"\"\"\n",
    "... Lösung ...\n",
    "\"\"\")"
   ]
  },
  {
   "cell_type": "code",
   "execution_count": null,
   "metadata": {},
   "outputs": [],
   "source": [
    "handin_exercise(\"Blatt 8 A2 (Theorie) Extrempunkte berechnen\",solution_8_2)"
   ]
  },
  {
   "cell_type": "markdown",
   "metadata": {},
   "source": [
    "## Kapitel 9 Aufgabe 1 Ableitung der Matrixinverse\n",
    "Sei $A : \\mathbb{R} \\rightarrow \\mathbb{C}^{n \\times n}$ eine stetig differenzierbare Abbildung, die jedem Zeitpunkt $t \\in \\mathbb{R}$ eine invertierbare Matrix $A(t)$ zuordnet.\n",
    "Sei $B : \\mathbb{R} \\rightarrow \\mathbb{C}^{n \\times n}$ mit $B(t) = (A(t))^{-1}$.\n",
    "Zeigen Sie:\n",
    "\\begin{equation}\n",
    "    B'(t) = -B(t) \\cdot A'(t) \\cdot B(t)\n",
    "\\end{equation}\n",
    "**inweis:** Starten Sie mit der Identität $I = A(t) \\cdot B(t)$ und nutzen Sie die Produktregel für Ableitungen."
   ]
  },
  {
   "cell_type": "code",
   "execution_count": null,
   "metadata": {},
   "outputs": [],
   "source": [
    "solution_9_1 = show(r\"\"\"\n",
    "... Lösung ...\n",
    "\"\"\")"
   ]
  },
  {
   "cell_type": "code",
   "execution_count": null,
   "metadata": {},
   "outputs": [],
   "source": [
    "handin_exercise(\"Blatt 9 A1 (Theorie) Ableitung der Matrixinverse\",solution_9_1)"
   ]
  },
  {
   "cell_type": "markdown",
   "metadata": {},
   "source": [
    "## Kapitel 9 Aufgabe 2 Funktionalmatrix des Skalarproduktes\n",
    "Sei $n,m \\in \\mathbb{N}$.\n",
    "Seien $f,g : \\mathbb{R}^n \\rightarrow \\mathbb{R}^m$ zwei differenzierbare Abbildungen.\n",
    "Wir betrachten die Funktion $h : \\mathbb{R}^n \\rightarrow \\mathbb{R}$ mit $h(x) = (f(x))^T \\cdot g(x)$, d.h. $h$ berechnet das Skalarprodukt der Funktionswerte von $f$ und $g$.\n",
    "Zeigen Sie, dass gilt\n",
    "\\begin{equation*}\n",
    "    h'(x) = (g(x))^T \\cdot f'(x) + (f(x))^T \\cdot g'(x)\n",
    "\\end{equation*}\n",
    "\n",
    "**Hinweis:** Betrachten Sie die partiellen Ableitungen von $h$ und schreiben Sie das Skalarprodukt als Summe."
   ]
  },
  {
   "cell_type": "code",
   "execution_count": null,
   "metadata": {},
   "outputs": [],
   "source": [
    "solution_9_2 = show(r\"\"\"\n",
    "... Lösung ...\n",
    "\"\"\")"
   ]
  },
  {
   "cell_type": "code",
   "execution_count": null,
   "metadata": {},
   "outputs": [],
   "source": [
    "handin_exercise(\"Blatt 9 A2 (Theorie) Funktionalmatrix des Skalarproduktes\",solution_9_2)"
   ]
  },
  {
   "cell_type": "markdown",
   "metadata": {},
   "source": [
    "## Kapitel 10 Aufgabe 1 Nullstellen und Fixpunkte\n",
    "Sei $n \\in \\mathbb{N}$ und sei $f : \\mathbb{C}^n \\rightarrow \\mathbb{C}^n$ eine zwei mal stetig differenzierbare Funktion, wobei die Ableitung $f'(x) \\in \\mathbb{C}^{n \\times n}$ für alle $x \\in \\mathbb{C}^n$ invertierbar ist.\n",
    "Sei\n",
    "\\begin{align*}\n",
    "    F : \\mathbb{C}^n & \\rightarrow \\mathbb{C}^n \\\\\n",
    "    x & \\mapsto x - (f'(x))^{-1} \\cdot f(x)\n",
    "\\end{align*}\n",
    "Sei $y \\in \\mathbb{C}^n$ eine Nullstelle von $f$.\n",
    "\n",
    "Zeigen Sie, dass gilt\n",
    "- $F(y) = y$.\n",
    "- $F'(y) = 0$."
   ]
  },
  {
   "cell_type": "code",
   "execution_count": null,
   "metadata": {},
   "outputs": [],
   "source": [
    "solution_10_1 = show(r\"\"\"\n",
    "... Lösung ...\n",
    "\"\"\")"
   ]
  },
  {
   "cell_type": "code",
   "execution_count": null,
   "metadata": {},
   "outputs": [],
   "source": [
    "handin_exercise(\"Blatt 10 A1 (Theorie) Nullstellen und Fixpunkte\",solution_10_1)"
   ]
  },
  {
   "cell_type": "markdown",
   "metadata": {},
   "source": [
    "Vergiss nicht, an der kurzen [**anonymen Umfrage**](https://forms.gle/dmEVfFVpq2Z5GoEb6) teilzunehmen ;)"
   ]
  }
 ],
 "metadata": {
  "kernelspec": {
   "display_name": "Python 3 (ipykernel)",
   "language": "python",
   "name": "python3"
  },
  "language_info": {
   "codemirror_mode": {
    "name": "ipython",
    "version": 3
   },
   "file_extension": ".py",
   "mimetype": "text/x-python",
   "name": "python",
   "nbconvert_exporter": "python",
   "pygments_lexer": "ipython3",
   "version": "3.11.10"
  }
 },
 "nbformat": 4,
 "nbformat_minor": 4
}
